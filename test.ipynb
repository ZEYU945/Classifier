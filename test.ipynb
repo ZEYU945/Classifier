{
 "cells": [
  {
   "cell_type": "code",
   "execution_count": 1,
   "metadata": {},
   "outputs": [],
   "source": [
    "import numpy as np\n",
    "import pandas as pd\n",
    "import os\n",
    "from PIL import Image"
   ]
  },
  {
   "cell_type": "code",
   "execution_count": 2,
   "metadata": {},
   "outputs": [
    {
     "data": {
      "text/html": [
       "<div>\n",
       "<style scoped>\n",
       "    .dataframe tbody tr th:only-of-type {\n",
       "        vertical-align: middle;\n",
       "    }\n",
       "\n",
       "    .dataframe tbody tr th {\n",
       "        vertical-align: top;\n",
       "    }\n",
       "\n",
       "    .dataframe thead th {\n",
       "        text-align: right;\n",
       "    }\n",
       "</style>\n",
       "<table border=\"1\" class=\"dataframe\">\n",
       "  <thead>\n",
       "    <tr style=\"text-align: right;\">\n",
       "      <th></th>\n",
       "      <th>Unnamed: 0</th>\n",
       "      <th>ID</th>\n",
       "      <th>Analyse des photos du sinistre</th>\n",
       "      <th>Emplacement</th>\n",
       "      <th>Cas (préqualification expert)</th>\n",
       "      <th>Description</th>\n",
       "    </tr>\n",
       "  </thead>\n",
       "  <tbody>\n",
       "    <tr>\n",
       "      <th>0</th>\n",
       "      <td>0</td>\n",
       "      <td>1104</td>\n",
       "      <td>Photo 1</td>\n",
       "      <td>Entre deux parties du bâtiment</td>\n",
       "      <td>1</td>\n",
       "      <td>Les dommages constatés sont situés à la joncti...</td>\n",
       "    </tr>\n",
       "    <tr>\n",
       "      <th>1</th>\n",
       "      <td>1</td>\n",
       "      <td>1237</td>\n",
       "      <td>Photo 1</td>\n",
       "      <td>Un mur porteur</td>\n",
       "      <td>5</td>\n",
       "      <td>NaN</td>\n",
       "    </tr>\n",
       "    <tr>\n",
       "      <th>2</th>\n",
       "      <td>6</td>\n",
       "      <td>1270</td>\n",
       "      <td>Photo 1</td>\n",
       "      <td>Un dallage intérieur</td>\n",
       "      <td>3</td>\n",
       "      <td>NaN</td>\n",
       "    </tr>\n",
       "    <tr>\n",
       "      <th>3</th>\n",
       "      <td>7</td>\n",
       "      <td>1271</td>\n",
       "      <td>Photo 1</td>\n",
       "      <td>Un dallage intérieur</td>\n",
       "      <td>1</td>\n",
       "      <td>NaN</td>\n",
       "    </tr>\n",
       "    <tr>\n",
       "      <th>4</th>\n",
       "      <td>8</td>\n",
       "      <td>1332</td>\n",
       "      <td>Photo 1</td>\n",
       "      <td>Une terrasse extérieure</td>\n",
       "      <td>1</td>\n",
       "      <td>NaN</td>\n",
       "    </tr>\n",
       "  </tbody>\n",
       "</table>\n",
       "</div>"
      ],
      "text/plain": [
       "   Unnamed: 0    ID Analyse des photos du sinistre  \\\n",
       "0           0  1104                        Photo 1   \n",
       "1           1  1237                        Photo 1   \n",
       "2           6  1270                        Photo 1   \n",
       "3           7  1271                        Photo 1   \n",
       "4           8  1332                        Photo 1   \n",
       "\n",
       "                      Emplacement  Cas (préqualification expert)  \\\n",
       "0  Entre deux parties du bâtiment                              1   \n",
       "1                  Un mur porteur                              5   \n",
       "2            Un dallage intérieur                              3   \n",
       "3            Un dallage intérieur                              1   \n",
       "4         Une terrasse extérieure                              1   \n",
       "\n",
       "                                         Description  \n",
       "0  Les dommages constatés sont situés à la joncti...  \n",
       "1                                                NaN  \n",
       "2                                                NaN  \n",
       "3                                                NaN  \n",
       "4                                                NaN  "
      ]
     },
     "execution_count": 2,
     "metadata": {},
     "output_type": "execute_result"
    }
   ],
   "source": [
    "df = pd.read_excel('cellule_expert_choose.xlsx')\n",
    "df.head()"
   ]
  },
  {
   "cell_type": "code",
   "execution_count": 13,
   "metadata": {},
   "outputs": [],
   "source": [
    "def Image_classifier(i):\n",
    "    cas = df.loc[df['Cas (préqualification expert)'] == i]\n",
    "    Index = cas['ID'].values.tolist()\n",
    "    index = []\n",
    "    for n in Index:\n",
    "        component = str(n)+'.jpg'\n",
    "        index.append(component)\n",
    "    return(index)"
   ]
  },
  {
   "cell_type": "code",
   "execution_count": 19,
   "metadata": {},
   "outputs": [],
   "source": [
    "ORIGINROOT = os.path.join(os.path.dirname(os.path.abspath('')),'extraction','files_choose')\n",
    "SAVEROOT = os.path.join(os.path.dirname(os.path.abspath('')),'extraction')\n",
    "\n",
    "for i in range(1, 5):\n",
    "    index = Image_classifier(i)\n",
    "    NAME = 'Cas_' + str(i)\n",
    "    CLASSROOT = os.path.join(SAVEROOT,NAME)\n",
    "    for file_name in index:\n",
    "        img = Image.open(os.path.join(ORIGINROOT, file_name))\n",
    "        img.save(os.path.join(CLASSROOT, file_name))\n"
   ]
  },
  {
   "cell_type": "code",
   "execution_count": null,
   "metadata": {},
   "outputs": [],
   "source": [
    "\n"
   ]
  },
  {
   "cell_type": "code",
   "execution_count": null,
   "metadata": {},
   "outputs": [],
   "source": []
  }
 ],
 "metadata": {
  "kernelspec": {
   "display_name": "Python 3",
   "language": "python",
   "name": "python3"
  },
  "language_info": {
   "codemirror_mode": {
    "name": "ipython",
    "version": 3
   },
   "file_extension": ".py",
   "mimetype": "text/x-python",
   "name": "python",
   "nbconvert_exporter": "python",
   "pygments_lexer": "ipython3",
   "version": "3.10.11"
  },
  "orig_nbformat": 4
 },
 "nbformat": 4,
 "nbformat_minor": 2
}
